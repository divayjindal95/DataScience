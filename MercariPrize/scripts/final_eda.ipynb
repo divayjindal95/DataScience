{
 "cells": [
  {
   "cell_type": "code",
   "execution_count": 1,
   "metadata": {},
   "outputs": [],
   "source": [
    "import numpy as np\n",
    "import pandas as pd\n",
    "from pylab import plot,show,hist,bar\n",
    "import gc\n",
    "%config IPCompleter.greedy=True\n"
   ]
  },
  {
   "cell_type": "code",
   "execution_count": 2,
   "metadata": {},
   "outputs": [],
   "source": [
    "from sklearn.preprocessing import LabelEncoder\n",
    "from sklearn.linear_model import LinearRegression\n",
    "from sklearn.ensemble import GradientBoostingRegressor\n",
    "from sklearn.ensemble import AdaBoostRegressor\n",
    "from sklearn.linear_model import SGDRegressor\n",
    "from sklearn.svm import SVR\n",
    "from sklearn.neural_network import MLPRegressor\n",
    "from sklearn.svm import LinearSVR\n",
    "from sklearn.model_selection import train_test_split"
   ]
  },
  {
   "cell_type": "code",
   "execution_count": 3,
   "metadata": {},
   "outputs": [
    {
     "name": "stdout",
     "output_type": "stream",
     "text": [
      "1482535\n",
      "1482535\n"
     ]
    }
   ],
   "source": [
    "data = pd.read_csv(\"../data/train.csv\",sep=\"\\t\")\n",
    "#data = pd.read_csv(\"../data/test.csv\",sep=\"\\t\")\n",
    "print len(data)\n",
    "#data = data.sample#(frac=0.5)\n",
    "print len(data)"
   ]
  },
  {
   "cell_type": "markdown",
   "metadata": {},
   "source": [
    "# Overall description "
   ]
  },
  {
   "cell_type": "markdown",
   "metadata": {},
   "source": [
    "### Observations\n",
    "1. Few category names missing\n",
    "2. 42% of brand_name in missing 1\n",
    "3. category_name , brand_name , item_description have some missing values"
   ]
  },
  {
   "cell_type": "code",
   "execution_count": 4,
   "metadata": {},
   "outputs": [],
   "source": [
    "data['log_price'] = np.log(data.price+1)\n"
   ]
  },
  {
   "cell_type": "markdown",
   "metadata": {},
   "source": [
    "### observation\n",
    "1. Price is highly skewed\n",
    "2. Log price looks good"
   ]
  },
  {
   "cell_type": "markdown",
   "metadata": {},
   "source": [
    "# Item_condition_id"
   ]
  },
  {
   "cell_type": "code",
   "execution_count": 5,
   "metadata": {},
   "outputs": [],
   "source": [
    "#data['median_item_condition_id']=data.item_condition_id.map({1:18.0,2:17.0,3:16.0,4:15.0,5:19.0})\n",
    "#print data.item_condition_id\n",
    "\n",
    "it_id_rv=data[['log_price','item_condition_id']].groupby(['item_condition_id']).describe()\n",
    "it_id_rv_dict = dict(zip(it_id_rv['log_price']['mean'].index,it_id_rv['log_price']['mean']))\n",
    "data['mean_it_id']=map(lambda x:it_id_rv_dict[x],data.item_condition_id)\n",
    "del it_id_rv\n",
    "del it_id_rv_dict"
   ]
  },
  {
   "cell_type": "markdown",
   "metadata": {},
   "source": [
    "### observation \n",
    "1. 5 condition is really low , but has the highest median price ( maybe means good condition )\n",
    "2. 4 count is low , even its median price is low ( maybe means really bad condition )"
   ]
  },
  {
   "cell_type": "markdown",
   "metadata": {},
   "source": [
    "###  observation \n",
    "1. from log price plot we see , that almost for all categories the distribution is same except that it is somewhat different for 5th"
   ]
  },
  {
   "cell_type": "markdown",
   "metadata": {},
   "source": [
    "# Category_name  \n",
    "\n",
    "\n",
    "\n"
   ]
  },
  {
   "cell_type": "code",
   "execution_count": 6,
   "metadata": {},
   "outputs": [],
   "source": [
    "data['Cat1']=data.category_name.str.split('/').str.get(0)\n",
    "data['Cat2']=data.category_name.str.split('/').str.get(1)\n",
    "data['Cat3']=data.category_name.str.split('/').str.get(2)\n",
    "data.Cat1= data.Cat1.fillna('NotPresent')\n",
    "data.Cat2= data.Cat2.fillna('NotPresent')\n",
    "data.Cat3= data.Cat3.fillna('NotPresent')"
   ]
  },
  {
   "cell_type": "code",
   "execution_count": 7,
   "metadata": {},
   "outputs": [],
   "source": [
    "cat1_rv=data[['log_price','Cat1']].groupby(['Cat1']).describe()\n",
    "cat1_rv_dict = dict(zip(cat1_rv['log_price']['mean'].index,cat1_rv['log_price']['mean']))\n",
    "data['mean_Cat1']=map(lambda x:cat1_rv_dict[x],data.Cat1)\n",
    "#print data.mean_Cat1\n",
    "del cat1_rv\n",
    "del cat1_rv_dict"
   ]
  },
  {
   "cell_type": "code",
   "execution_count": 8,
   "metadata": {},
   "outputs": [],
   "source": [
    "cat2_rv=data[['log_price','Cat2']].groupby(['Cat2']).describe()\n",
    "cat2_rv_dict = dict(zip(cat2_rv['log_price']['mean'].index,cat2_rv['log_price']['mean']))\n",
    "data['mean_Cat2']=map(lambda x:cat2_rv_dict[x],data.Cat2)\n",
    "del cat2_rv\n",
    "del cat2_rv_dict"
   ]
  },
  {
   "cell_type": "code",
   "execution_count": 9,
   "metadata": {},
   "outputs": [],
   "source": [
    "cat3_rv=data[['log_price','Cat3']].groupby(['Cat3']).describe()\n",
    "cat3_rv_dict = dict(zip(cat3_rv['log_price']['mean'].index,cat3_rv['log_price']['mean']))\n",
    "data['mean_Cat3']=map(lambda x:cat3_rv_dict[x],data.Cat3)\n",
    "del cat3_rv\n",
    "del cat3_rv_dict"
   ]
  },
  {
   "cell_type": "code",
   "execution_count": 10,
   "metadata": {},
   "outputs": [
    {
     "data": {
      "text/plain": [
       "273"
      ]
     },
     "execution_count": 10,
     "metadata": {},
     "output_type": "execute_result"
    }
   ],
   "source": [
    "data=data.drop(['Cat1','Cat2','Cat3','category_name'],axis=1)\n",
    "gc.collect()"
   ]
  },
  {
   "cell_type": "markdown",
   "metadata": {},
   "source": [
    "### Cat1\n",
    "\n",
    "len(data.Cat1.unique())\n",
    "\n",
    "plot(xrange(10),data[['price','Cat1']].groupby(['Cat1']).median(),'-x')\n",
    "show()\n",
    "\n",
    "data[['price','Cat1']].groupby(['Cat1']).describe()#.sort_values(by='count', ascending=False)\n",
    "\n",
    "hist(np.log(data[data['Cat1']=='Men'].price+1))\n",
    "show()"
   ]
  },
  {
   "cell_type": "markdown",
   "metadata": {},
   "source": [
    "."
   ]
  },
  {
   "cell_type": "markdown",
   "metadata": {},
   "source": [
    "##  shipping\n"
   ]
  },
  {
   "cell_type": "code",
   "execution_count": 11,
   "metadata": {},
   "outputs": [],
   "source": [
    "sp_rv=data[['log_price','shipping']].groupby(['shipping']).describe()\n",
    "sp_rv_dict = dict(zip(sp_rv['log_price']['mean'].index,sp_rv['log_price']['mean']))\n",
    "data['mean_shipping']=map(lambda x:sp_rv_dict[x],data.shipping)\n",
    "del sp_rv\n",
    "del sp_rv_dict"
   ]
  },
  {
   "cell_type": "markdown",
   "metadata": {},
   "source": [
    "##  name"
   ]
  },
  {
   "cell_type": "code",
   "execution_count": 12,
   "metadata": {},
   "outputs": [],
   "source": [
    "data['len_name']=list(map(lambda x : len(x),data.name))"
   ]
  },
  {
   "cell_type": "markdown",
   "metadata": {},
   "source": [
    "## brand_name"
   ]
  },
  {
   "cell_type": "code",
   "execution_count": 13,
   "metadata": {},
   "outputs": [],
   "source": [
    "data.brand_name= data.brand_name.fillna('NotPresent')"
   ]
  },
  {
   "cell_type": "code",
   "execution_count": 14,
   "metadata": {
    "scrolled": true
   },
   "outputs": [],
   "source": [
    "brand_name_rv=data[['brand_name','log_price']].groupby(['brand_name']).describe()\n",
    "brand_name_rv_dict = dict(zip(brand_name_rv['log_price']['mean'].index,brand_name_rv['log_price']['mean']))\n",
    "data['mean_brand_name']=map(lambda x:brand_name_rv_dict[x],data.brand_name)\n",
    "del brand_name_rv\n",
    "del brand_name_rv_dict"
   ]
  },
  {
   "cell_type": "markdown",
   "metadata": {},
   "source": [
    "##  item_description \n"
   ]
  },
  {
   "cell_type": "code",
   "execution_count": 15,
   "metadata": {},
   "outputs": [],
   "source": [
    "data.item_description=data.item_description.fillna('No description yet')"
   ]
  },
  {
   "cell_type": "code",
   "execution_count": 16,
   "metadata": {},
   "outputs": [],
   "source": [
    "len_desc = list(map(lambda x:len(x),data.item_description))\n"
   ]
  },
  {
   "cell_type": "code",
   "execution_count": null,
   "metadata": {},
   "outputs": [],
   "source": [
    "i=12\n",
    "print data[data.price>1500].price.iloc[i]\n",
    "print data[data.price>1500].brand_name.iloc[i]\n",
    "print data[data.price>1500].item_description.iloc[i]\n",
    "print data[data.price>1500].name.iloc[i]"
   ]
  },
  {
   "cell_type": "markdown",
   "metadata": {},
   "source": [
    "# Pairwise\n"
   ]
  },
  {
   "cell_type": "code",
   "execution_count": null,
   "metadata": {},
   "outputs": [],
   "source": [
    "aa = data[['log_price','brand_name','Cat1','Cat2','Cat3','item_condition_id']].groupby(['brand_name','item_condition_id','Cat1','Cat2','Cat3']).mean().sort_values(['log_price'],ascending=False)['log_price'].to_dict()"
   ]
  },
  {
   "cell_type": "code",
   "execution_count": null,
   "metadata": {},
   "outputs": [],
   "source": [
    "data['letssee']=list(map(lambda x:aa[(x.brand_name,x.Cat1,x.Cat2,x.Cat3,x.item_condition_id)],data))"
   ]
  },
  {
   "cell_type": "code",
   "execution_count": null,
   "metadata": {},
   "outputs": [],
   "source": [
    "map(lambda y:y[1][1],data.iloc[:10].iterrows())"
   ]
  },
  {
   "cell_type": "code",
   "execution_count": null,
   "metadata": {},
   "outputs": [],
   "source": [
    "data.iteritems()[0]"
   ]
  },
  {
   "cell_type": "markdown",
   "metadata": {},
   "source": [
    "\n",
    "##  Prediction "
   ]
  },
  {
   "cell_type": "markdown",
   "metadata": {},
   "source": [
    "data.Cat1= data.Cat1.fillna('NotPresent')\n",
    "le = LabelEncoder()\n",
    "le.fit(data.Cat1)\n",
    "print len(le.classes_)\n",
    "data['Cat1Tf'] = le.transform(data.Cat1) \n",
    "\n",
    "\n",
    "data.Cat2= data.Cat2.fillna('NotPresent')\n",
    "le = LabelEncoder()\n",
    "le.fit(data.Cat2)\n",
    "print len(le.classes_)\n",
    "data['Cat2Tf'] = le.transform(data.Cat2) \n",
    "\n",
    "\n",
    "data.Cat3= data.Cat3.fillna('NotPresent')\n",
    "le = LabelEncoder()\n",
    "le.fit(data.Cat3)\n",
    "print len(le.classes_)\n",
    "data['Cat3Tf'] = le.transform(data.Cat3) \n",
    "\n",
    "\n",
    "data.brand_name=data.brand_name.fillna('OTHERS')\n",
    "le=LabelEncoder()\n",
    "le.fit(data.brand_name)\n",
    "print len(le.classes_)\n",
    "data['brand_nameTf']= le.transform(data.brand_name) \n",
    "\n",
    "\n",
    "data['log_price'] = np.log(data.price+1)\n"
   ]
  },
  {
   "cell_type": "code",
   "execution_count": 17,
   "metadata": {},
   "outputs": [
    {
     "name": "stdout",
     "output_type": "stream",
     "text": [
      "Index([u'shipping', u'log_price', u'mean_it_id', u'mean_Cat1', u'mean_Cat2',\n",
      "       u'mean_Cat3', u'mean_shipping', u'len_name', u'mean_brand_name'],\n",
      "      dtype='object')\n"
     ]
    },
    {
     "data": {
      "text/plain": [
       "151"
      ]
     },
     "execution_count": 17,
     "metadata": {},
     "output_type": "execute_result"
    }
   ],
   "source": [
    "data1 = data.drop(['item_condition_id','price','train_id','name','brand_name','item_description'],axis=1)\n",
    "print data1.columns\n",
    "#train, test = train_test_split(data, test_size=0.7)\n",
    "#print train.columns\n",
    "del data\n",
    "gc.collect()"
   ]
  },
  {
   "cell_type": "code",
   "execution_count": null,
   "metadata": {},
   "outputs": [],
   "source": [
    "len(data[data.Cat1.isnull()==True])"
   ]
  },
  {
   "cell_type": "code",
   "execution_count": 18,
   "metadata": {},
   "outputs": [],
   "source": [
    "trn_columns = [u'shipping', u'mean_it_id', u'mean_Cat1', u'mean_Cat2',\n",
    "       u'mean_Cat3', u'mean_shipping', u'len_name', u'mean_brand_name']\n",
    "targ = ['log_price']"
   ]
  },
  {
   "cell_type": "code",
   "execution_count": 19,
   "metadata": {},
   "outputs": [],
   "source": [
    "train,test = train_test_split(data1,test_size=0.3)"
   ]
  },
  {
   "cell_type": "code",
   "execution_count": 20,
   "metadata": {},
   "outputs": [
    {
     "data": {
      "text/plain": [
       "20"
      ]
     },
     "execution_count": 20,
     "metadata": {},
     "output_type": "execute_result"
    }
   ],
   "source": [
    "del data1\n",
    "gc.collect()"
   ]
  },
  {
   "cell_type": "markdown",
   "metadata": {},
   "source": [
    "### LinearRegression"
   ]
  },
  {
   "cell_type": "code",
   "execution_count": 21,
   "metadata": {},
   "outputs": [
    {
     "data": {
      "text/plain": [
       "LinearRegression(copy_X=True, fit_intercept=True, n_jobs=1, normalize=False)"
      ]
     },
     "execution_count": 21,
     "metadata": {},
     "output_type": "execute_result"
    }
   ],
   "source": [
    "lr=LinearRegression()\n",
    "lr.fit(train[trn_columns],train[targ])"
   ]
  },
  {
   "cell_type": "code",
   "execution_count": 22,
   "metadata": {},
   "outputs": [
    {
     "name": "stdout",
     "output_type": "stream",
     "text": [
      "444761\n"
     ]
    }
   ],
   "source": [
    "preds = lr.predict(test[trn_columns])\n",
    "print len(preds)"
   ]
  },
  {
   "cell_type": "code",
   "execution_count": 23,
   "metadata": {
    "scrolled": true
   },
   "outputs": [
    {
     "data": {
      "text/plain": [
       "log_price    0.595722\n",
       "dtype: float64"
      ]
     },
     "execution_count": 23,
     "metadata": {},
     "output_type": "execute_result"
    }
   ],
   "source": [
    "np.sqrt(np.mean(np.square(preds-test[targ])))"
   ]
  },
  {
   "cell_type": "markdown",
   "metadata": {},
   "source": [
    "### Ridge"
   ]
  },
  {
   "cell_type": "code",
   "execution_count": 24,
   "metadata": {},
   "outputs": [
    {
     "data": {
      "text/plain": [
       "Ridge(alpha=1.0, copy_X=True, fit_intercept=True, max_iter=None,\n",
       "   normalize=False, random_state=None, solver='auto', tol=0.001)"
      ]
     },
     "execution_count": 24,
     "metadata": {},
     "output_type": "execute_result"
    }
   ],
   "source": [
    "from sklearn.linear_model import Ridge\n",
    "rg=Ridge()\n",
    "rg.fit(train[trn_columns],train[targ])"
   ]
  },
  {
   "cell_type": "code",
   "execution_count": 25,
   "metadata": {},
   "outputs": [
    {
     "name": "stdout",
     "output_type": "stream",
     "text": [
      "444761\n"
     ]
    }
   ],
   "source": [
    "preds = rg.predict(test[trn_columns])\n",
    "print len(preds)"
   ]
  },
  {
   "cell_type": "code",
   "execution_count": 26,
   "metadata": {},
   "outputs": [
    {
     "data": {
      "text/plain": [
       "log_price    0.595721\n",
       "dtype: float64"
      ]
     },
     "execution_count": 26,
     "metadata": {},
     "output_type": "execute_result"
    }
   ],
   "source": [
    "np.sqrt(np.mean(np.square(preds-test[targ])))"
   ]
  },
  {
   "cell_type": "markdown",
   "metadata": {},
   "source": [
    "### SVR"
   ]
  },
  {
   "cell_type": "code",
   "execution_count": null,
   "metadata": {},
   "outputs": [],
   "source": [
    "svr = LinearSVR()\n",
    "svr.fit(train[trn_columns],train[targ])"
   ]
  },
  {
   "cell_type": "code",
   "execution_count": null,
   "metadata": {},
   "outputs": [],
   "source": [
    "preds = svr.predict(test[trn_columns])\n",
    "print len(preds)"
   ]
  },
  {
   "cell_type": "code",
   "execution_count": null,
   "metadata": {},
   "outputs": [],
   "source": [
    "df=pd.DataFrame()\n",
    "df['preds']=preds\n",
    "df['price']=list(test[targ]['log_price'])\n",
    "print np.sqrt(np.mean(np.square(df.preds-df.price)))"
   ]
  },
  {
   "cell_type": "code",
   "execution_count": null,
   "metadata": {},
   "outputs": [],
   "source": [
    "svrr = SVR()\n",
    "svrr.fit(train[trn_columns],train[targ])"
   ]
  },
  {
   "cell_type": "code",
   "execution_count": null,
   "metadata": {},
   "outputs": [],
   "source": [
    "preds = svrr.predict(test[trn_columns])\n",
    "print len(preds)"
   ]
  },
  {
   "cell_type": "code",
   "execution_count": null,
   "metadata": {},
   "outputs": [],
   "source": [
    "df=pd.DataFrame()\n",
    "df['preds']=preds\n",
    "df['price']=list(test[targ]['log_price'])\n",
    "print np.sqrt(np.mean(np.square(df.preds-df.price)))"
   ]
  },
  {
   "cell_type": "markdown",
   "metadata": {},
   "source": [
    "### RandomForest"
   ]
  },
  {
   "cell_type": "code",
   "execution_count": 27,
   "metadata": {},
   "outputs": [
    {
     "name": "stderr",
     "output_type": "stream",
     "text": [
      "C:\\Python27\\lib\\site-packages\\sklearn\\utils\\validation.py:547: DataConversionWarning: A column-vector y was passed when a 1d array was expected. Please change the shape of y to (n_samples, ), for example using ravel().\n",
      "  y = column_or_1d(y, warn=True)\n"
     ]
    },
    {
     "data": {
      "text/plain": [
       "GradientBoostingRegressor(alpha=0.9, criterion='friedman_mse', init=None,\n",
       "             learning_rate=0.1, loss='ls', max_depth=3, max_features=None,\n",
       "             max_leaf_nodes=None, min_impurity_decrease=0.0,\n",
       "             min_impurity_split=None, min_samples_leaf=1,\n",
       "             min_samples_split=2, min_weight_fraction_leaf=0.0,\n",
       "             n_estimators=100, presort='auto', random_state=None,\n",
       "             subsample=1.0, verbose=0, warm_start=False)"
      ]
     },
     "execution_count": 27,
     "metadata": {},
     "output_type": "execute_result"
    }
   ],
   "source": [
    "gbr=GradientBoostingRegressor()\n",
    "gbr.fit(train[trn_columns],train[targ])"
   ]
  },
  {
   "cell_type": "code",
   "execution_count": 28,
   "metadata": {},
   "outputs": [
    {
     "name": "stdout",
     "output_type": "stream",
     "text": [
      "0.576081285323\n"
     ]
    }
   ],
   "source": [
    "preds = gbr.predict(test[trn_columns])\n",
    "\n",
    "df=pd.DataFrame()\n",
    "df['preds']=preds\n",
    "df['price']=list(test[targ]['log_price'])\n",
    "print np.sqrt(np.mean(np.square(df.preds-df.price)))\n"
   ]
  },
  {
   "cell_type": "code",
   "execution_count": null,
   "metadata": {},
   "outputs": [],
   "source": [
    "import gc\n",
    "gc.collect()\n",
    "print np.sqrt(np.mean(np.square(preds-test[targ])))"
   ]
  },
  {
   "cell_type": "markdown",
   "metadata": {},
   "source": [
    "### Adaboost"
   ]
  },
  {
   "cell_type": "code",
   "execution_count": null,
   "metadata": {},
   "outputs": [],
   "source": [
    "abr=AdaBoostRegressor()\n",
    "abr.fit(train[trn_columns],train[targ])"
   ]
  },
  {
   "cell_type": "code",
   "execution_count": null,
   "metadata": {},
   "outputs": [],
   "source": [
    "preds = abr.predict(test[trn_columns])"
   ]
  },
  {
   "cell_type": "code",
   "execution_count": null,
   "metadata": {},
   "outputs": [],
   "source": [
    "df=pd.DataFrame()\n",
    "df['preds']=preds\n",
    "df['price']=list(test[targ]['log_price'])\n",
    "print np.sqrt(np.mean(np.square(df.preds-df.price)))"
   ]
  },
  {
   "cell_type": "markdown",
   "metadata": {},
   "source": [
    "###  SGD"
   ]
  },
  {
   "cell_type": "code",
   "execution_count": null,
   "metadata": {},
   "outputs": [],
   "source": [
    "sgd = SGDRegressor( n_iter=100)\n",
    "sgd.fit(train[trn_columns],train[targ])"
   ]
  },
  {
   "cell_type": "code",
   "execution_count": null,
   "metadata": {},
   "outputs": [],
   "source": [
    "preds = sgd.predict(test[trn_columns])\n",
    "print preds"
   ]
  },
  {
   "cell_type": "code",
   "execution_count": null,
   "metadata": {},
   "outputs": [],
   "source": [
    "df=pd.DataFrame()\n",
    "df['preds']=preds\n",
    "df['price']=list(test[targ]['log_price'])\n",
    "print np.sqrt(np.mean(np.square(df.preds-df.price)))"
   ]
  },
  {
   "cell_type": "markdown",
   "metadata": {},
   "source": [
    "### MLP"
   ]
  },
  {
   "cell_type": "code",
   "execution_count": null,
   "metadata": {},
   "outputs": [],
   "source": [
    "mlp = MLPRegressor()\n",
    "mlp.fit(train[trn_columns],train[targ])"
   ]
  },
  {
   "cell_type": "code",
   "execution_count": null,
   "metadata": {},
   "outputs": [],
   "source": [
    "preds = mlp.predict(test[trn_columns])"
   ]
  },
  {
   "cell_type": "code",
   "execution_count": null,
   "metadata": {},
   "outputs": [],
   "source": [
    "df=pd.DataFrame()\n",
    "df['preds']=preds\n",
    "df['price']=list(test[targ]['log_price'])\n",
    "print np.sqrt(np.mean(np.square(df.preds-df.price)))"
   ]
  },
  {
   "cell_type": "code",
   "execution_count": null,
   "metadata": {},
   "outputs": [],
   "source": []
  }
 ],
 "metadata": {
  "kernelspec": {
   "display_name": "Python 2",
   "language": "python",
   "name": "python2"
  },
  "language_info": {
   "codemirror_mode": {
    "name": "ipython",
    "version": 2
   },
   "file_extension": ".py",
   "mimetype": "text/x-python",
   "name": "python",
   "nbconvert_exporter": "python",
   "pygments_lexer": "ipython2",
   "version": "2.7.13"
  }
 },
 "nbformat": 4,
 "nbformat_minor": 1
}
